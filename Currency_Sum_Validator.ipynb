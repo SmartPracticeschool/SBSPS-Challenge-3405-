{
 "cells": [
  {
   "cell_type": "markdown",
   "metadata": {},
   "source": [
    "***Currency sum validator***"
   ]
  },
  {
   "cell_type": "code",
   "execution_count": 1,
   "metadata": {},
   "outputs": [],
   "source": [
    "def bill_count(amt_of_money,bills):\n",
    "    count=0\n",
    "    indian_currency=[1,2,5,10,20,50,100,200,500,1000,2000]\n",
    "    \n",
    "    if(amt_of_money > min(bills) and amt_of_money > 0 and all(n>0 for n in bills) and all(x in indian_currency for x in bills)):\n",
    "        bills.sort(reverse=True) \n",
    "        for bill in bills:\n",
    "            if(amt_of_money>=bill):\n",
    "                count+=amt_of_money//bill\n",
    "                amt_of_money%=bill\n",
    "        print(count, \" is the minimum count of monry bills required\") \n",
    "    elif(any(n<0 for n in bills)):\n",
    "        return \"List of bills should not contain negative values\"\n",
    "    elif(amt_of_money<0):\n",
    "        return \"Amount of money should not be negative\"\n",
    "    elif(not(all(x in indian_currency for x in bills))):\n",
    "        return \"List of bill should only contain indian standard currency value\"\n",
    "    else:\n",
    "        return \"Amount of money is less than the list of bill values\""
   ]
  },
  {
   "cell_type": "code",
   "execution_count": 2,
   "metadata": {},
   "outputs": [
    {
     "name": "stdout",
     "output_type": "stream",
     "text": [
      "51  is the minimum count of monry bills required\n"
     ]
    }
   ],
   "source": [
    "bill_count(1001, [1, 10, 20])"
   ]
  },
  {
   "cell_type": "code",
   "execution_count": 3,
   "metadata": {},
   "outputs": [
    {
     "name": "stdout",
     "output_type": "stream",
     "text": [
      "5  is the minimum count of monry bills required\n"
     ]
    }
   ],
   "source": [
    "bill_count(100, [1, 10, 20])"
   ]
  },
  {
   "cell_type": "code",
   "execution_count": 4,
   "metadata": {},
   "outputs": [
    {
     "name": "stdout",
     "output_type": "stream",
     "text": [
      "13  is the minimum count of monry bills required\n"
     ]
    }
   ],
   "source": [
    "bill_count(1050, [1, 10, 20, 100])"
   ]
  },
  {
   "cell_type": "code",
   "execution_count": 5,
   "metadata": {},
   "outputs": [
    {
     "name": "stdout",
     "output_type": "stream",
     "text": [
      "3  is the minimum count of monry bills required\n"
     ]
    }
   ],
   "source": [
    "bill_count(3, [1, 10])"
   ]
  },
  {
   "cell_type": "code",
   "execution_count": 6,
   "metadata": {},
   "outputs": [
    {
     "name": "stdout",
     "output_type": "stream",
     "text": [
      "2  is the minimum count of monry bills required\n"
     ]
    }
   ],
   "source": [
    "bill_count(55, [1, 5, 10, 50])"
   ]
  },
  {
   "cell_type": "code",
   "execution_count": 7,
   "metadata": {},
   "outputs": [
    {
     "data": {
      "text/plain": [
       "'List of bill should only contain indian standard currency value'"
      ]
     },
     "execution_count": 7,
     "metadata": {},
     "output_type": "execute_result"
    }
   ],
   "source": [
    "bill_count(1050, [1, 10, 100,30])"
   ]
  },
  {
   "cell_type": "code",
   "execution_count": 8,
   "metadata": {},
   "outputs": [
    {
     "data": {
      "text/plain": [
       "'List of bills should not contain negative values'"
      ]
     },
     "execution_count": 8,
     "metadata": {},
     "output_type": "execute_result"
    }
   ],
   "source": [
    "bill_count(55, [-1, 5, 10, 50])"
   ]
  },
  {
   "cell_type": "code",
   "execution_count": 9,
   "metadata": {},
   "outputs": [
    {
     "data": {
      "text/plain": [
       "'Amount of money is less than the list of bill values'"
      ]
     },
     "execution_count": 9,
     "metadata": {},
     "output_type": "execute_result"
    }
   ],
   "source": [
    "bill_count(10, [20, 100])"
   ]
  },
  {
   "cell_type": "code",
   "execution_count": 10,
   "metadata": {},
   "outputs": [
    {
     "data": {
      "text/plain": [
       "'Amount of money should not be negative'"
      ]
     },
     "execution_count": 10,
     "metadata": {},
     "output_type": "execute_result"
    }
   ],
   "source": [
    "bill_count(-1050, [1, 10, 20, 100])"
   ]
  },
  {
   "cell_type": "code",
   "execution_count": null,
   "metadata": {},
   "outputs": [],
   "source": []
  }
 ],
 "metadata": {
  "kernelspec": {
   "display_name": "Python 3",
   "language": "python",
   "name": "python3"
  },
  "language_info": {
   "codemirror_mode": {
    "name": "ipython",
    "version": 3
   },
   "file_extension": ".py",
   "mimetype": "text/x-python",
   "name": "python",
   "nbconvert_exporter": "python",
   "pygments_lexer": "ipython3",
   "version": "3.7.4"
  }
 },
 "nbformat": 4,
 "nbformat_minor": 2
}
